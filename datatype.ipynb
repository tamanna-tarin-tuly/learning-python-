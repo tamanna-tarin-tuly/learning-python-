{
  "nbformat": 4,
  "nbformat_minor": 0,
  "metadata": {
    "colab": {
      "provenance": [],
      "authorship_tag": "ABX9TyN99FdiIZ5mJvh3w3o64tVv",
      "include_colab_link": true
    },
    "kernelspec": {
      "name": "python3",
      "display_name": "Python 3"
    },
    "language_info": {
      "name": "python"
    }
  },
  "cells": [
    {
      "cell_type": "markdown",
      "metadata": {
        "id": "view-in-github",
        "colab_type": "text"
      },
      "source": [
        "<a href=\"https://colab.research.google.com/github/tamanna-tarin-tuly/learning-python-/blob/main/datatype.ipynb\" target=\"_parent\"><img src=\"https://colab.research.google.com/assets/colab-badge.svg\" alt=\"Open In Colab\"/></a>"
      ]
    },
    {
      "cell_type": "code",
      "execution_count": null,
      "metadata": {
        "id": "IH5rEFtWPz8Z",
        "outputId": "590bee93-507d-44d5-a04d-169d5e8e8376",
        "colab": {
          "base_uri": "https://localhost:8080/"
        }
      },
      "outputs": [
        {
          "output_type": "stream",
          "name": "stdout",
          "text": [
            "hello monkey\n"
          ]
        }
      ],
      "source": [
        "print (\"hello monkey\")"
      ]
    },
    {
      "cell_type": "code",
      "source": [
        "print(\"i love bangladesh\")"
      ],
      "metadata": {
        "id": "u4XABA85dZXF",
        "outputId": "0f18cdef-1655-4838-c5eb-3d78e3ad19c1",
        "colab": {
          "base_uri": "https://localhost:8080/"
        }
      },
      "execution_count": 3,
      "outputs": [
        {
          "output_type": "stream",
          "name": "stdout",
          "text": [
            "i love bangladesh\n"
          ]
        }
      ]
    },
    {
      "cell_type": "code",
      "source": [
        "#variables\n",
        "a=10\n",
        "b=12\n",
        "print(a+b)"
      ],
      "metadata": {
        "id": "JuV3spxVd4mZ",
        "outputId": "c6c163c7-3898-4e64-9047-4e92a876f873",
        "colab": {
          "base_uri": "https://localhost:8080/"
        }
      },
      "execution_count": 11,
      "outputs": [
        {
          "output_type": "stream",
          "name": "stdout",
          "text": [
            "22\n"
          ]
        }
      ]
    },
    {
      "cell_type": "code",
      "source": [
        "name=\"Tamanna Tarin\"\n",
        "address=\" vill:x,post:y,dist:z\"\n",
        "print(name+address )"
      ],
      "metadata": {
        "id": "upWaRG2Bdqhy",
        "outputId": "f71a4c47-1ee1-4aa8-d7c0-030f4e86785f",
        "colab": {
          "base_uri": "https://localhost:8080/"
        }
      },
      "execution_count": 14,
      "outputs": [
        {
          "output_type": "stream",
          "name": "stdout",
          "text": [
            "Tamanna Tarin vill:x,post:y,dist:z\n"
          ]
        }
      ]
    },
    {
      "cell_type": "code",
      "source": [
        "#data types\n",
        "#20# int\n",
        "#4.5 float\n",
        "#amanna string"
      ],
      "metadata": {
        "id": "tThK-frDjRVh"
      },
      "execution_count": null,
      "outputs": []
    },
    {
      "cell_type": "code",
      "source": [
        "#take input from keyboard\n",
        "firstNum=10\n",
        "secondNum=input(\"Enter a number:\")\n",
        "\n",
        "print(\"sum:\",firstNum+int(secondNum))"
      ],
      "metadata": {
        "id": "a-gMpl7AjRCO",
        "outputId": "ec520ff3-6b49-4af7-ac55-e0fb5af11df4",
        "colab": {
          "base_uri": "https://localhost:8080/"
        }
      },
      "execution_count": 4,
      "outputs": [
        {
          "output_type": "stream",
          "name": "stdout",
          "text": [
            "Enter a number:9\n",
            "sum: 19\n"
          ]
        }
      ]
    }
  ]
}